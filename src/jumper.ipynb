{
 "cells": [
  {
   "cell_type": "code",
   "execution_count": 1,
   "metadata": {},
   "outputs": [],
   "source": [
    "import os\n",
    "# from PIL import Image\n",
    "#import matplotlib\n",
    "#import matplotlib.pyplot as plt\n",
    "import numpy as np\n",
    "from skimage import io, transform, data, color, feature, filters\n",
    "#import cv2 as cv"
   ]
  },
  {
   "cell_type": "code",
   "execution_count": 55,
   "metadata": {},
   "outputs": [],
   "source": [
    "time_coeff = 1.200 #1.392"
   ]
  },
  {
   "cell_type": "code",
   "execution_count": 56,
   "metadata": {},
   "outputs": [],
   "source": [
    "def get_screenshot():\n",
    "    # Change 'platform-tools-windows' to 'platform-tools-macos' and 'adb.exe' to './adb' on macOS; you may need to use `chmod +X ../dependency/platform-tools-macos/adb` first\n",
    "    os.system(\n",
    "        'cd ../dependency/platform-tools-windows/ && adb.exe shell screencap -p /sdcard/autojump.png')\n",
    "    os.system(\n",
    "        'cd ../dependency/platform-tools-windows/ && adb.exe pull /sdcard/autojump.png ../../src/')"
   ]
  },
  {
   "cell_type": "code",
   "execution_count": 111,
   "metadata": {},
   "outputs": [],
   "source": [
    "def press_screen(distance):\n",
    "    # Change 'platform-tools-windows' to 'platform-tools-macos' and 'adb.exe' to './adb' on macOS; you may need to use `chmod +X ../dependency/platform-tools-macos/adb` first\n",
    "    press_time = int(distance * time_coeff)\n",
    "    os.system('cd ../dependency/platform-tools-windows/ && adb.exe shell input swipe 500 1000 500 1002 ' + str(press_time))"
   ]
  },
  {
   "cell_type": "code",
   "execution_count": 126,
   "metadata": {},
   "outputs": [],
   "source": [
    "def edge_detc(img_gray):\n",
    "    #img = np.mat(img_gray)\n",
    "    #temp = img[:,:-1] - img[:,1:]\n",
    "    #print(temp)\n",
    "    #io.imshow(temp, cmap='gray')\n",
    "    '''\n",
    "    for i in range(img_gray.shape[0]):\n",
    "        for j in range(1,img_gray.shape[1]):\n",
    "            #if temp[i,j] != 0 :\n",
    "            #    temp[i,j] = True\n",
    "            #else :\n",
    "            #    temp[i,j] = False\n",
    "            if img_gray[i,j] != img_gray[i,j-1] | img_gray[i,j] != img_gray[i,j+1] :\n",
    "                temp[i,j] = True\n",
    "            else :\n",
    "                temp[i,j] = False\n",
    "        temp[i,0] = temp[i,-1] = False\n",
    "    '''\n",
    "    temp = abs(img_gray[:,:-1] - img_gray[:,1:])\n",
    "    temp = temp > 0.001\n",
    "    return temp"
   ]
  },
  {
   "cell_type": "code",
   "execution_count": 129,
   "metadata": {},
   "outputs": [],
   "source": [
    "def main():\n",
    "    # Code here\n",
    "    # 截取屏幕\n",
    "    get_screenshot()\n",
    "    \n",
    "    # 对截取到的图像进行压缩转换处理\n",
    "    img_src = io.imread('autojump.png')               #读取原始图像\n",
    "    img_src = img_src[400:1700,:,:]\n",
    "    #img_bounder = feature.canny(color.rgb2gray(img_src),sigma=0)\n",
    "    #img_bounder = transform.rescale(img_bounder,0.5)\n",
    "    #io.imshow(img_src)\n",
    "    img = transform.rescale(img_src,0.5) # 对图像进行压缩和裁剪以减小之后的运算量\n",
    "    img_gray = color.rgb2gray(img)                    # 转化为灰度图\n",
    "    #img_bounder = feature.canny(img_gray,sigma=0)   # 对灰度图进行边缘检测\n",
    "    img_gray = 1 - img_gray                           # 对灰度图进行灰度翻转，以减小浅色背景对于相关结果的贡献，提高相关的准确率，但有时背景也可能出现较深颜色，此时误差较大\n",
    "    #io.imshow(img_bounder)\n",
    "    #io.imshow(img_gray)\n",
    "    \n",
    "    img_bounder = edge_detc(img_gray)[1:]\n",
    "    io.imshow(img_bounder, cmap='gray')\n",
    "    print(img_bounder)\n",
    "    \n",
    "    # player_template = cv.imread('src/jer.png')\n",
    "    # player = cv.matchTemplate(img, player_template, cv.TM_CCOEFF_NORMED)\n",
    "    \n",
    "    # 遍历整个背景图片，与棋子的模板图片做相关，大于阈值后跳出循环\n",
    "    threshold = 150;\n",
    "    #mat1 = np.mat(jer_gray);\n",
    "    mat1 = np.loadtxt(open('jer.csv','rb'), delimiter=',', skiprows=0)\n",
    "    mat2 = np.mat(img_gray)\n",
    "    row = img_gray.shape[0]; col = img_gray.shape[1]\n",
    "    height = mat1.shape[0]; width = mat1.shape[1]\n",
    "    #io.imshow(mat1,cmap = 'gray')\n",
    "    #io.imshow(mat2,cmap = 'gray')\n",
    "    # print(mat1.shape)\n",
    "    # print(mat2.shape)\n",
    "    flag1 = False; flag2 = False\n",
    "    left = np.array([0,0]); right = np.array([0,0])\n",
    "    for i in range(row-height):\n",
    "        for j in range(col-width):\n",
    "            mat3 = mat2[row-i-height:row-i, j:j+width]\n",
    "            temp = np.sum(np.multiply(mat3, mat1))\n",
    "            if temp > 1550 & ~flag1 :\n",
    "                flag1 = True\n",
    "                left = [i,j]\n",
    "                #io.imshow(mat3,cmap='gray')\n",
    "                break\n",
    "            #if temp > 1550 && flag1 && ~flag2 :\n",
    "                \n",
    "            if temp > 1550 :\n",
    "                print(i,j,temp)\n",
    "            #if (i,j) == (313,313) :\n",
    "            #    print((i,j),temp)\n",
    "            #    io.imshow(mat3,cmap='gray')\n",
    "        if flag1 :\n",
    "            break\n",
    "    \n",
    "    left = left + np.array([1,1])             # 对检测到的棋子位置进行修正\n",
    "    print('source:',left)\n",
    "     \n",
    "    # 对于经过边缘检测的图像，搜索下一个将要跳跃的块的顶点，以确定其水平方向的坐标，从而得到与棋子的距离\n",
    "    target = np.array([0,0])\n",
    "    flag = False\n",
    "    mat4 = np.mat(img_bounder)      # 将边缘检测得到的图转化为矩阵，矩阵元素为boolean型变量\n",
    "    #print(mat4)\n",
    "    row = img_bounder.shape[0]; col = img_bounder.shape[1]\n",
    "    for i in range(row) :\n",
    "        for j in range(col) :\n",
    "            if mat4[i,j] :\n",
    "                target = [i,j]\n",
    "                flag = True\n",
    "                #print(i,j,mat4[i,j])\n",
    "                break\n",
    "        if flag :\n",
    "            break\n",
    "    \n",
    "    print('target:',target)\n",
    "    distance = 2 * abs(target[1] - left[1]) / 0.8\n",
    "    print('distance:',distance)\n",
    "    \n",
    "    press_screen(distance)\n",
    "    \n",
    "    pass"
   ]
  },
  {
   "cell_type": "code",
   "execution_count": 137,
   "metadata": {},
   "outputs": [
    {
     "name": "stderr",
     "output_type": "stream",
     "text": [
      "d:\\python36\\lib\\site-packages\\skimage\\transform\\_warps.py:84: UserWarning: The default mode, 'constant', will be changed to 'reflect' in skimage 0.15.\n",
      "  warn(\"The default mode, 'constant', will be changed to 'reflect' in \"\n",
      "d:\\python36\\lib\\site-packages\\skimage\\io\\_plugins\\matplotlib_plugin.py:51: FutureWarning: Conversion of the second argument of issubdtype from `float` to `np.floating` is deprecated. In future, it will be treated as `np.float64 == np.dtype(float).type`.\n",
      "  out_of_range_float = (np.issubdtype(image.dtype, np.float) and\n",
      "d:\\python36\\lib\\site-packages\\matplotlib\\axes\\_base.py:1400: MatplotlibDeprecationWarning: The 'box-forced' keyword argument is deprecated since 2.2.\n",
      "  \" since 2.2.\", cbook.mplDeprecation)\n"
     ]
    },
    {
     "name": "stdout",
     "output_type": "stream",
     "text": [
      "[[False False False ... False False False]\n",
      " [False False False ... False False False]\n",
      " [False False False ... False False False]\n",
      " ...\n",
      " [False False False ... False False False]\n",
      " [False False False ... False False False]\n",
      " [False False False ... False False False]]\n",
      "source: [257 381]\n",
      "target: [159, 143]\n",
      "distance: 595.0\n"
     ]
    },
    {
     "data": {
      "image/png": "[encoded data removed]",
      "text/plain": [
       "<Figure size 432x288 with 1 Axes>"
      ]
     },
     "metadata": {},
     "output_type": "display_data"
    }
   ],
   "source": [
    "if __name__ == '__main__':\n",
    "    main()"
   ]
  },
  {
   "cell_type": "code",
   "execution_count": null,
   "metadata": {},
   "outputs": [],
   "source": [
    "jer = io.imread('jer0.png')                        # 读取棋子模板图像\n",
    "jer_gray = color.rgb2gray(jer)                    # 转化为灰度图\n",
    "jer_gray = 1 - jer_gray                           # 进行灰度反转\n",
    "mat1 = np.mat(jer_gray)\n",
    "#print(mat1)\n",
    "for i in range(mat1.shape[0]) :\n",
    "    for j in range(mat1.shape[1]) :\n",
    "        if mat1[i,j] < 0.3 :\n",
    "            mat1[i,j] = 0;\n",
    "io.imshow(mat1,cmap='gray')\n",
    "np.savetxt('jer.csv',mat1,delimiter=',')"
   ]
  },
  {
   "cell_type": "code",
   "execution_count": null,
   "metadata": {},
   "outputs": [],
   "source": []
  }
 ],
 "metadata": {
  "kernelspec": {
   "display_name": "Python 3",
   "language": "python",
   "name": "python3"
  },
  "language_info": {
   "codemirror_mode": {
    "name": "ipython",
    "version": 3
   },
   "file_extension": ".py",
   "mimetype": "text/x-python",
   "name": "python",
   "nbconvert_exporter": "python",
   "pygments_lexer": "ipython3",
   "version": "3.6.4"
  }
 },
 "nbformat": 4,
 "nbformat_minor": 2
}
